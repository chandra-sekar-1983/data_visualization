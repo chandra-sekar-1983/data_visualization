{
  "nbformat": 4,
  "nbformat_minor": 0,
  "metadata": {
    "colab": {
      "name": "Data Visualization&Analysis.ipynb",
      "provenance": [],
      "authorship_tag": "ABX9TyPPQwcZS/32jVtaymN/4+Um",
      "include_colab_link": true
    },
    "kernelspec": {
      "name": "python3",
      "display_name": "Python 3"
    }
  },
  "cells": [
    {
      "cell_type": "markdown",
      "metadata": {
        "id": "view-in-github",
        "colab_type": "text"
      },
      "source": [
        "<a href=\"https://colab.research.google.com/github/chandra-sekar-1983/data_visualization/blob/master/Data_Visualization%26Analysis.ipynb\" target=\"_parent\"><img src=\"https://colab.research.google.com/assets/colab-badge.svg\" alt=\"Open In Colab\"/></a>"
      ]
    },
    {
      "cell_type": "code",
      "metadata": {
        "id": "hVWfw42L8wiB",
        "colab_type": "code",
        "colab": {}
      },
      "source": [
        "import numpy as np\n",
        "import pandas as pd\n",
        "import matplotlib.pyplot as plt\n",
        "import seaborn as sns\n",
        "sns.set_style(\"darkgrid\")"
      ],
      "execution_count": 0,
      "outputs": []
    },
    {
      "cell_type": "markdown",
      "metadata": {
        "id": "Sw0YI7qPXpKX",
        "colab_type": "text"
      },
      "source": [
        "***1) Import dataset***\n",
        "\n",
        "***2) Data Understanding***\n",
        "\n",
        "a) identify dependent and indpendent variable\n",
        "\n",
        "b) Split features based on datatypes - Numeric ,discrete, categorical  , time variables\n",
        "\n",
        "c) Understand cardinality of data\n",
        "\n",
        "***3)Data correctness***\n",
        "\n",
        "a) Are there any outliers?\n",
        "\n",
        "b) Do you see missing values?\n",
        "\n",
        "\n",
        "***4)Ask Questions***\n",
        "\n",
        "1) What is the general trend of salary?Is it increasing or decreasing or remaining constant?\n",
        "\n"
      ]
    },
    {
      "cell_type": "markdown",
      "metadata": {
        "id": "PwbOBVHnovJs",
        "colab_type": "text"
      },
      "source": [
        "## ***1) Import Dataset ***\n"
      ]
    },
    {
      "cell_type": "code",
      "metadata": {
        "id": "RyJlZD4LXXja",
        "colab_type": "code",
        "outputId": "453e2459-ade0-4349-d0a1-61613ad5c1dd",
        "colab": {
          "base_uri": "https://localhost:8080/",
          "height": 462
        }
      },
      "source": [
        "#### salary data is avaialable in 2020 folder\n",
        "\n",
        "### Importing data\n",
        "data_file=\"/content/salary_data.csv\"                ### modify here\n",
        "data=pd.read_csv(data_file)\n",
        "print(data.shape)\n",
        "data.head()\n"
      ],
      "execution_count": 278,
      "outputs": [
        {
          "output_type": "stream",
          "text": [
            "(167274, 27)\n"
          ],
          "name": "stdout"
        },
        {
          "output_type": "execute_result",
          "data": {
            "text/html": [
              "<div>\n",
              "<style scoped>\n",
              "    .dataframe tbody tr th:only-of-type {\n",
              "        vertical-align: middle;\n",
              "    }\n",
              "\n",
              "    .dataframe tbody tr th {\n",
              "        vertical-align: top;\n",
              "    }\n",
              "\n",
              "    .dataframe thead th {\n",
              "        text-align: right;\n",
              "    }\n",
              "</style>\n",
              "<table border=\"1\" class=\"dataframe\">\n",
              "  <thead>\n",
              "    <tr style=\"text-align: right;\">\n",
              "      <th></th>\n",
              "      <th>Index</th>\n",
              "      <th>CASE_NUMBER</th>\n",
              "      <th>CASE_STATUS</th>\n",
              "      <th>CASE_RECEIVED_DATE</th>\n",
              "      <th>DECISION_DATE</th>\n",
              "      <th>EMPLOYER_NAME</th>\n",
              "      <th>PREVAILING_WAGE_SUBMITTED</th>\n",
              "      <th>PREVAILING_WAGE_SUBMITTED_UNIT</th>\n",
              "      <th>PAID_WAGE_SUBMITTED</th>\n",
              "      <th>PAID_WAGE_SUBMITTED_UNIT</th>\n",
              "      <th>JOB_TITLE</th>\n",
              "      <th>WORK_CITY</th>\n",
              "      <th>EDUCATION_LEVEL_REQUIRED</th>\n",
              "      <th>COLLEGE_MAJOR_REQUIRED</th>\n",
              "      <th>EXPERIENCE_REQUIRED_Y_N</th>\n",
              "      <th>EXPERIENCE_REQUIRED_NUM_MONTHS</th>\n",
              "      <th>COUNTRY_OF_CITIZENSHIP</th>\n",
              "      <th>PREVAILING_WAGE_SOC_CODE</th>\n",
              "      <th>PREVAILING_WAGE_SOC_TITLE</th>\n",
              "      <th>WORK_STATE</th>\n",
              "      <th>WORK_POSTAL_CODE</th>\n",
              "      <th>FULL_TIME_POSITION_Y_N</th>\n",
              "      <th>VISA_CLASS</th>\n",
              "      <th>PREVAILING_WAGE_PER_YEAR</th>\n",
              "      <th>PAID_WAGE_PER_YEAR</th>\n",
              "      <th>JOB_TITLE_SUBGROUP</th>\n",
              "      <th>order</th>\n",
              "    </tr>\n",
              "  </thead>\n",
              "  <tbody>\n",
              "    <tr>\n",
              "      <th>0</th>\n",
              "      <td>1</td>\n",
              "      <td>I-200-14073-248840</td>\n",
              "      <td>denied</td>\n",
              "      <td>3/14/2014</td>\n",
              "      <td>3/21/2014</td>\n",
              "      <td>ADVANCED TECHNOLOGY GROUP USA, INC.</td>\n",
              "      <td>6217100.0</td>\n",
              "      <td>year</td>\n",
              "      <td>62171.0</td>\n",
              "      <td>year</td>\n",
              "      <td>SOFTWARE ENGINEER</td>\n",
              "      <td>BLOOMINGTON</td>\n",
              "      <td>NaN</td>\n",
              "      <td>NaN</td>\n",
              "      <td>NaN</td>\n",
              "      <td>NaN</td>\n",
              "      <td>NaN</td>\n",
              "      <td>15-1132</td>\n",
              "      <td>Software Developers, Applications</td>\n",
              "      <td>IL</td>\n",
              "      <td>NaN</td>\n",
              "      <td>y</td>\n",
              "      <td>H-1B</td>\n",
              "      <td>NaN</td>\n",
              "      <td>62171.0</td>\n",
              "      <td>software engineer</td>\n",
              "      <td>1</td>\n",
              "    </tr>\n",
              "    <tr>\n",
              "      <th>1</th>\n",
              "      <td>2</td>\n",
              "      <td>A-15061-55212</td>\n",
              "      <td>denied</td>\n",
              "      <td>3/19/2015</td>\n",
              "      <td>3/19/2015</td>\n",
              "      <td>SAN FRANCISCO STATE UNIVERSITY</td>\n",
              "      <td>5067600.0</td>\n",
              "      <td>year</td>\n",
              "      <td>91440.0</td>\n",
              "      <td>year</td>\n",
              "      <td>Assistant Professor of Marketing</td>\n",
              "      <td>SAN FRANCISCO</td>\n",
              "      <td>Doctorate</td>\n",
              "      <td>marketing</td>\n",
              "      <td>n</td>\n",
              "      <td>NaN</td>\n",
              "      <td>IRAN</td>\n",
              "      <td>25-1011</td>\n",
              "      <td>Business Teachers, Postsecondary</td>\n",
              "      <td>CALIFORNIA</td>\n",
              "      <td>94132</td>\n",
              "      <td>NaN</td>\n",
              "      <td>greencard</td>\n",
              "      <td>NaN</td>\n",
              "      <td>91440.0</td>\n",
              "      <td>assistant professor</td>\n",
              "      <td>2</td>\n",
              "    </tr>\n",
              "    <tr>\n",
              "      <th>2</th>\n",
              "      <td>3</td>\n",
              "      <td>I-200-13256-001092</td>\n",
              "      <td>denied</td>\n",
              "      <td>9/13/2013</td>\n",
              "      <td>9/23/2013</td>\n",
              "      <td>CAROUSEL SCHOOL</td>\n",
              "      <td>4947000.0</td>\n",
              "      <td>year</td>\n",
              "      <td>49470.0</td>\n",
              "      <td>year</td>\n",
              "      <td>SPECIAL EDUCATION TEACHER</td>\n",
              "      <td>LOS ANGELES</td>\n",
              "      <td>NaN</td>\n",
              "      <td>NaN</td>\n",
              "      <td>NaN</td>\n",
              "      <td>NaN</td>\n",
              "      <td>NaN</td>\n",
              "      <td>25-2052</td>\n",
              "      <td>Special Education Teachers, Kindergarten and E...</td>\n",
              "      <td>CA</td>\n",
              "      <td>NaN</td>\n",
              "      <td>y</td>\n",
              "      <td>H-1B</td>\n",
              "      <td>NaN</td>\n",
              "      <td>49470.0</td>\n",
              "      <td>teacher</td>\n",
              "      <td>3</td>\n",
              "    </tr>\n",
              "    <tr>\n",
              "      <th>3</th>\n",
              "      <td>4</td>\n",
              "      <td>I-200-14087-353657</td>\n",
              "      <td>denied</td>\n",
              "      <td>3/28/2014</td>\n",
              "      <td>4/7/2014</td>\n",
              "      <td>HARLINGEN CONSOLIDATED INDEPENDENT SCHOOL DIST...</td>\n",
              "      <td>251052.0</td>\n",
              "      <td>month</td>\n",
              "      <td>43800.0</td>\n",
              "      <td>year</td>\n",
              "      <td>SCIENCE TEACHER</td>\n",
              "      <td>HARLINGEN CISD</td>\n",
              "      <td>NaN</td>\n",
              "      <td>NaN</td>\n",
              "      <td>NaN</td>\n",
              "      <td>NaN</td>\n",
              "      <td>NaN</td>\n",
              "      <td>25-1042</td>\n",
              "      <td>Biological Science Teachers, Postsecondary</td>\n",
              "      <td>TX</td>\n",
              "      <td>NaN</td>\n",
              "      <td>y</td>\n",
              "      <td>H-1B</td>\n",
              "      <td>NaN</td>\n",
              "      <td>43800.0</td>\n",
              "      <td>teacher</td>\n",
              "      <td>4</td>\n",
              "    </tr>\n",
              "    <tr>\n",
              "      <th>4</th>\n",
              "      <td>5</td>\n",
              "      <td>I-203-14259-128844</td>\n",
              "      <td>denied</td>\n",
              "      <td>9/16/2014</td>\n",
              "      <td>9/23/2014</td>\n",
              "      <td>SIGNAL SCIENCES CORPORATION</td>\n",
              "      <td>84573.0</td>\n",
              "      <td>bi-weekly</td>\n",
              "      <td>170000.0</td>\n",
              "      <td>year</td>\n",
              "      <td>SENIOR SOFTWARE ENGINEER</td>\n",
              "      <td>PORTLAND</td>\n",
              "      <td>NaN</td>\n",
              "      <td>NaN</td>\n",
              "      <td>NaN</td>\n",
              "      <td>NaN</td>\n",
              "      <td>NaN</td>\n",
              "      <td>15-1133</td>\n",
              "      <td>Software Developers, Systems Software</td>\n",
              "      <td>OR</td>\n",
              "      <td>NaN</td>\n",
              "      <td>y</td>\n",
              "      <td>E-3 Australian</td>\n",
              "      <td>NaN</td>\n",
              "      <td>170000.0</td>\n",
              "      <td>software engineer</td>\n",
              "      <td>5</td>\n",
              "    </tr>\n",
              "  </tbody>\n",
              "</table>\n",
              "</div>"
            ],
            "text/plain": [
              "   Index         CASE_NUMBER  ...   JOB_TITLE_SUBGROUP order\n",
              "0      1  I-200-14073-248840  ...    software engineer     1\n",
              "1      2       A-15061-55212  ...  assistant professor     2\n",
              "2      3  I-200-13256-001092  ...              teacher     3\n",
              "3      4  I-200-14087-353657  ...              teacher     4\n",
              "4      5  I-203-14259-128844  ...    software engineer     5\n",
              "\n",
              "[5 rows x 27 columns]"
            ]
          },
          "metadata": {
            "tags": []
          },
          "execution_count": 278
        }
      ]
    },
    {
      "cell_type": "markdown",
      "metadata": {
        "id": "M9_OpkG_pL5E",
        "colab_type": "text"
      },
      "source": [
        "**** 2) Data Understanding ***"
      ]
    },
    {
      "cell_type": "markdown",
      "metadata": {
        "id": "PdW5Adg7pXWJ",
        "colab_type": "text"
      },
      "source": [
        "*** 2 a) Set Independent and Dependent variables ***"
      ]
    },
    {
      "cell_type": "code",
      "metadata": {
        "id": "o29NTZcqXXm9",
        "colab_type": "code",
        "outputId": "7fdc9570-ea7f-4ecc-ff63-55cd24a8b469",
        "colab": {
          "base_uri": "https://localhost:8080/",
          "height": 71
        }
      },
      "source": [
        "### Set independent variable and dependent variable\n",
        "dependent_var=\"PAID_WAGE_PER_YEAR\"                                             ### modify here\n",
        "independent_var=data.drop(dependent_var,axis=1).columns.to_list()\n",
        "print(f\" The dependent feature is {dependent_var}\")\n",
        "print(f\" Number of  Independent features are {len(independent_var)} and  {independent_var}\")"
      ],
      "execution_count": 279,
      "outputs": [
        {
          "output_type": "stream",
          "text": [
            " The dependent feature is PAID_WAGE_PER_YEAR\n",
            " Number of  Independent features are 26 and  ['Index', 'CASE_NUMBER', 'CASE_STATUS', 'CASE_RECEIVED_DATE', 'DECISION_DATE', 'EMPLOYER_NAME', 'PREVAILING_WAGE_SUBMITTED', 'PREVAILING_WAGE_SUBMITTED_UNIT', 'PAID_WAGE_SUBMITTED', 'PAID_WAGE_SUBMITTED_UNIT', 'JOB_TITLE', 'WORK_CITY', 'EDUCATION_LEVEL_REQUIRED', 'COLLEGE_MAJOR_REQUIRED', 'EXPERIENCE_REQUIRED_Y_N', 'EXPERIENCE_REQUIRED_NUM_MONTHS', 'COUNTRY_OF_CITIZENSHIP', 'PREVAILING_WAGE_SOC_CODE', 'PREVAILING_WAGE_SOC_TITLE', 'WORK_STATE', 'WORK_POSTAL_CODE', 'FULL_TIME_POSITION_Y_N', 'VISA_CLASS', 'PREVAILING_WAGE_PER_YEAR', 'JOB_TITLE_SUBGROUP', 'order']\n"
          ],
          "name": "stdout"
        }
      ]
    },
    {
      "cell_type": "markdown",
      "metadata": {
        "id": "ePXYhf-baVjZ",
        "colab_type": "text"
      },
      "source": [
        "**2 b) Split numerical ,discrete, categorical and time features***\n",
        "\n"
      ]
    },
    {
      "cell_type": "code",
      "metadata": {
        "id": "U5qY7P0EXXuJ",
        "colab_type": "code",
        "colab": {}
      },
      "source": [
        "## Use this code to extract variables  ######## modify here\n",
        "\n",
        "##[(\"feature name is -\",var,data[var].nunique(), data[var].unique(),print()) for var in independent_var  ]   #### use this code to identify categorical,discrete,numer quickly"
      ],
      "execution_count": 0,
      "outputs": []
    },
    {
      "cell_type": "code",
      "metadata": {
        "id": "DNFJ8-WaXXrD",
        "colab_type": "code",
        "outputId": "11d9c614-6d7e-4805-edb0-939b853dd162",
        "colab": {
          "base_uri": "https://localhost:8080/",
          "height": 224
        }
      },
      "source": [
        "\n",
        "\n",
        "## splitting categorical and numerical variable\n",
        "\n",
        "categorical_var=[var for var in data.columns if data[var].dtypes=='object']\n",
        "categorical_var=[]\n",
        "numerical_var=[var for var in data.columns if data[var].dtypes ==('float64' or 'int64')]\n",
        "time_var=[var for var in data.columns if data[var].dtypes=='datetime64']  \n",
        "\n",
        "\n",
        "time_var=[\"CASE_RECEIVED_DATE\",\"DECISION_DATE\"]\n",
        "numerical_var=[\"CASE_NUMBER\",\"CASE_STATUS\",\"EMPLOYER_NAME\",\"EXPERIENCE_REQUIRED_NUM_MONTHS\",\"Index\",\n",
        "               \"PREVAILING_WAGE_SUBMITTED\",\"PAID_WAGE_SUBMITTED\",\"PAID_WAGE_PER_YEAR\",\"order\"]\n",
        "\n",
        "discrete_var=[]\n",
        "\n",
        "categorical_var=[\"PREVAILING_WAGE_SUBMITTED_UNIT\",\"PAID_WAGE_SUBMITTED_UNIT\",\"JOB_TITLE\",\"WORK_CITY\",\"EDUCATION_LEVEL_REQUIRED\",\"COLLEGE_MAJOR_REQUIRED\",\n",
        "                 \"EXPERIENCE_REQUIRED_Y_N\",\"COUNTRY_OF_CITIZENSHIP\",\"PREVAILING_WAGE_SOC_CODE\",\"PREVAILING_WAGE_SOC_TITLE\",\"WORK_STATE\",\"WORK_POSTAL_CODE\",\n",
        "                 \"FULL_TIME_POSITION_Y_N\",\"VISA_CLASS\",\"PREVAILING_WAGE_PER_YEAR\",\"JOB_TITLE_SUBGROUP\",]\n",
        "\n",
        "print(\"Number of Categorical variables :\",len(categorical_var))\n",
        "print(\"Categorical variables :\",categorical_var)\n",
        "print()\n",
        "print(\"Number of Numerical variables :\",len(numerical_var))\n",
        "print(\"Numerical variables :\",numerical_var)\n",
        "print()\n",
        "print(\"Time variables : \",len(time_var))\n",
        "print(\"Time variables :\",time_var)\n",
        "\n",
        "print()\n",
        "print(\"Number of Discrete variables :\",len(discrete_var))\n",
        "print(\"Discrete variables :\",discrete_var)\n"
      ],
      "execution_count": 281,
      "outputs": [
        {
          "output_type": "stream",
          "text": [
            "Number of Categorical variables : 16\n",
            "Categorical variables : ['PREVAILING_WAGE_SUBMITTED_UNIT', 'PAID_WAGE_SUBMITTED_UNIT', 'JOB_TITLE', 'WORK_CITY', 'EDUCATION_LEVEL_REQUIRED', 'COLLEGE_MAJOR_REQUIRED', 'EXPERIENCE_REQUIRED_Y_N', 'COUNTRY_OF_CITIZENSHIP', 'PREVAILING_WAGE_SOC_CODE', 'PREVAILING_WAGE_SOC_TITLE', 'WORK_STATE', 'WORK_POSTAL_CODE', 'FULL_TIME_POSITION_Y_N', 'VISA_CLASS', 'PREVAILING_WAGE_PER_YEAR', 'JOB_TITLE_SUBGROUP']\n",
            "\n",
            "Number of Numerical variables : 9\n",
            "Numerical variables : ['CASE_NUMBER', 'CASE_STATUS', 'EMPLOYER_NAME', 'EXPERIENCE_REQUIRED_NUM_MONTHS', 'Index', 'PREVAILING_WAGE_SUBMITTED', 'PAID_WAGE_SUBMITTED', 'PAID_WAGE_PER_YEAR', 'order']\n",
            "\n",
            "Time variables :  2\n",
            "Time variables : ['CASE_RECEIVED_DATE', 'DECISION_DATE']\n",
            "\n",
            "Number of Discrete variables : 0\n",
            "Discrete variables : []\n"
          ],
          "name": "stdout"
        }
      ]
    },
    {
      "cell_type": "code",
      "metadata": {
        "id": "SIZCimzXXXz6",
        "colab_type": "code",
        "outputId": "e5b664c3-9ab0-482b-f8ef-da45410bcc5b",
        "colab": {
          "base_uri": "https://localhost:8080/",
          "height": 102
        }
      },
      "source": [
        "### verifiying if there are any columns appearing in both split\n",
        "\n",
        "print(\"Checking if there are duplicate columns or not\")\n",
        "\n",
        "### verifiying if there are any columns appearing in both split\n",
        "\n",
        "print([var for var in numerical_var if var in (categorical_var or discrete_var or time_var) ])\n",
        "print([var for var in discrete_var if var in (categorical_var or numerical_var or time_var) ])\n",
        "print([var for var in categorical_var if var in ( discrete_var or numerical_var or time_var) ])\n",
        "print([var for var in time_var if var in ( discrete_var or numerical_var or catgorical_var) ])"
      ],
      "execution_count": 282,
      "outputs": [
        {
          "output_type": "stream",
          "text": [
            "Checking if there are duplicate columns or not\n",
            "[]\n",
            "[]\n",
            "[]\n",
            "[]\n"
          ],
          "name": "stdout"
        }
      ]
    },
    {
      "cell_type": "code",
      "metadata": {
        "id": "zPrWcj78XX2-",
        "colab_type": "code",
        "colab": {}
      },
      "source": [
        ""
      ],
      "execution_count": 0,
      "outputs": []
    },
    {
      "cell_type": "markdown",
      "metadata": {
        "id": "vqBKokuhptgn",
        "colab_type": "text"
      },
      "source": [
        "*** 2 C) Data cardinality - Understanding subcategories categorical data is taking***"
      ]
    },
    {
      "cell_type": "code",
      "metadata": {
        "id": "COWA19kDpsmg",
        "colab_type": "code",
        "outputId": "ac949ba2-009e-4d95-e3c2-04a662db1119",
        "colab": {
          "base_uri": "https://localhost:8080/",
          "height": 289
        }
      },
      "source": [
        "[(var,data[var].nunique()) for var in ( categorical_var or discret_var) ]"
      ],
      "execution_count": 283,
      "outputs": [
        {
          "output_type": "execute_result",
          "data": {
            "text/plain": [
              "[('PREVAILING_WAGE_SUBMITTED_UNIT', 5),\n",
              " ('PAID_WAGE_SUBMITTED_UNIT', 5),\n",
              " ('JOB_TITLE', 12589),\n",
              " ('WORK_CITY', 4888),\n",
              " ('EDUCATION_LEVEL_REQUIRED', 7),\n",
              " ('COLLEGE_MAJOR_REQUIRED', 3261),\n",
              " ('EXPERIENCE_REQUIRED_Y_N', 2),\n",
              " ('COUNTRY_OF_CITIZENSHIP', 134),\n",
              " ('PREVAILING_WAGE_SOC_CODE', 402),\n",
              " ('PREVAILING_WAGE_SOC_TITLE', 561),\n",
              " ('WORK_STATE', 110),\n",
              " ('WORK_POSTAL_CODE', 4866),\n",
              " ('FULL_TIME_POSITION_Y_N', 2),\n",
              " ('VISA_CLASS', 5),\n",
              " ('PREVAILING_WAGE_PER_YEAR', 15315),\n",
              " ('JOB_TITLE_SUBGROUP', 8)]"
            ]
          },
          "metadata": {
            "tags": []
          },
          "execution_count": 283
        }
      ]
    },
    {
      "cell_type": "code",
      "metadata": {
        "id": "atGCVAKVXX5r",
        "colab_type": "code",
        "colab": {}
      },
      "source": [
        ""
      ],
      "execution_count": 0,
      "outputs": []
    },
    {
      "cell_type": "markdown",
      "metadata": {
        "id": "S1JuzXpTqtzw",
        "colab_type": "text"
      },
      "source": [
        "***3) Data Correctness***"
      ]
    },
    {
      "cell_type": "markdown",
      "metadata": {
        "id": "mZc5dgjOq3vC",
        "colab_type": "text"
      },
      "source": [
        "***3 a) Identify Missing Values ***"
      ]
    },
    {
      "cell_type": "code",
      "metadata": {
        "id": "vH7HYuujXX8q",
        "colab_type": "code",
        "outputId": "8badea52-b0e8-45fb-a7ce-7bc93050dbfa",
        "colab": {
          "base_uri": "https://localhost:8080/",
          "height": 418
        }
      },
      "source": [
        "### Finding if the data set contains missing elements are not.True indicates presence of missing elements\n",
        "\n",
        "print(\"Missing values :\",data.isnull().values.any())\n",
        "\n",
        "print()\n",
        "### Finding total number of rows that contains missing elements\n",
        "print(\"Number of rows that contain missing element \",data.isnull().sum().sum())\n",
        "print(f\"Percentage of Dataset that contains missing element is {round(data.isnull().sum().sum()/len(data),2)} %\")\n",
        "\n",
        "print()\n",
        "# make a list of the variables that contain missing values\n",
        "missing_val_columns=[(col,data[col].isnull().sum()) for col in data.columns if data[col].isnull().sum()>0]\n",
        "print(\"The missing value columns are \")\n",
        "print(missing_val_columns)\n",
        "\n",
        "### Calculating Percentage of missing observation with respect to full dataset\n",
        "\n",
        "missing_val_columns=pd.DataFrame(missing_val_columns)\n",
        "missing_val_columns[1]=round(missing_val_columns[1]/len(data),2)\n",
        "\n",
        "missing_val_columns=missing_val_columns.rename(columns={0:\"Feature\",1:\"% of missing observations\"}).reset_index()\n",
        "missing_val_columns=missing_val_columns[missing_val_columns[\"% of missing observations\"]>0.1]\n",
        "missing_val_columns=missing_val_columns.sort_values(by='% of missing observations', ascending=False)\n",
        "\n",
        "\n",
        "\n",
        "### Visualizing the distribution of missing features\n",
        "\n",
        "ax = sns.barplot(x=\"% of missing observations\",y=\"Feature\", data=missing_val_columns,orient = 'h')\n"
      ],
      "execution_count": 284,
      "outputs": [
        {
          "output_type": "stream",
          "text": [
            "Missing values : True\n",
            "\n",
            "Number of rows that contain missing element  911840\n",
            "Percentage of Dataset that contains missing element is 5.45 %\n",
            "\n",
            "The missing value columns are \n",
            "[('WORK_CITY', 3), ('EDUCATION_LEVEL_REQUIRED', 156181), ('COLLEGE_MAJOR_REQUIRED', 156223), ('EXPERIENCE_REQUIRED_Y_N', 156181), ('EXPERIENCE_REQUIRED_NUM_MONTHS', 162309), ('COUNTRY_OF_CITIZENSHIP', 156181), ('WORK_POSTAL_CODE', 113601), ('FULL_TIME_POSITION_Y_N', 11093), ('PREVAILING_WAGE_PER_YEAR', 68)]\n"
          ],
          "name": "stdout"
        },
        {
          "output_type": "display_data",
          "data": {
            "image/png": "[encoded data removed]",
            "text/plain": [
              "<Figure size 432x288 with 1 Axes>"
            ]
          },
          "metadata": {
            "tags": []
          }
        }
      ]
    },
    {
      "cell_type": "markdown",
      "metadata": {
        "id": "WT_J2bYuvHgV",
        "colab_type": "text"
      },
      "source": [
        "Insight for Missing Values :Our dataset contains a few variables with missing values. We need to account for this in our Feature engineering /preprocessing step."
      ]
    },
    {
      "cell_type": "markdown",
      "metadata": {
        "id": "ZjD_wBTKyERD",
        "colab_type": "text"
      },
      "source": [
        "*** 3 b)Outliers -  Extreme values may affect the performance of a linear model. Let's find out if we have any in our variables***"
      ]
    },
    {
      "cell_type": "code",
      "metadata": {
        "id": "y436NxMzXYFo",
        "colab_type": "code",
        "outputId": "564f79f1-b532-4f9f-8235-9600d032aec4",
        "colab": {
          "base_uri": "https://localhost:8080/",
          "height": 581
        }
      },
      "source": [
        "# let's make boxplots to visualise outliers in the continuous variables\n",
        "\n",
        "\n",
        "def find_outliers(df, var):\n",
        "    \n",
        "    df.boxplot(column=var)\n",
        "    \n",
        "    print(\"Median value :\",df[var].median())\n",
        "    plt.title(var)\n",
        "    plt.ylabel(var)\n",
        "    plt.show()\n",
        "\n",
        "\n",
        "\n",
        "## function to treat outliers:\n",
        "def outlier_treatment(df,col):\n",
        "     sorted(df[col])\n",
        "     Q1,Q3 = np.percentile(df[col] , [25,75])\n",
        "     IQR = Q3 - Q1\n",
        "     lower_range = Q1 - (1.5 * IQR)\n",
        "     upper_range = Q3 + (1.5 * IQR)\n",
        "     quantile_10_value=df[col].quantile(0.10)\n",
        "     quantile_90_value=df[col].quantile(0.90)\n",
        "     df[col] = np.where(df[col] < lower_range, quantile_10_value,df[col])\n",
        "     df[col] = np.where(df[col] >upper_range,quantile_90_value,df[col])\n",
        "\n",
        "find_outliers(data,\"PAID_WAGE_PER_YEAR\")\n",
        "outlier_treatment(data,\"PAID_WAGE_PER_YEAR\")\n",
        "find_outliers(data,\"PAID_WAGE_PER_YEAR\")"
      ],
      "execution_count": 285,
      "outputs": [
        {
          "output_type": "stream",
          "text": [
            "Median value : 78600.0\n"
          ],
          "name": "stdout"
        },
        {
          "output_type": "display_data",
          "data": {
            "image/png": "[encoded data removed]",
            "text/plain": [
              "<Figure size 432x288 with 1 Axes>"
            ]
          },
          "metadata": {
            "tags": []
          }
        },
        {
          "output_type": "stream",
          "text": [
            "Median value : 78600.0\n"
          ],
          "name": "stdout"
        },
        {
          "output_type": "display_data",
          "data": {
            "image/png": "[encoded data removed]",
            "text/plain": [
              "<Figure size 432x288 with 1 Axes>"
            ]
          },
          "metadata": {
            "tags": []
          }
        }
      ]
    },
    {
      "cell_type": "markdown",
      "metadata": {
        "id": "yho6r3EPPIpQ",
        "colab_type": "text"
      },
      "source": [
        "**Function to extract Year,Month,Date from  Independent Features**"
      ]
    },
    {
      "cell_type": "code",
      "metadata": {
        "id": "2EuycweRXYN7",
        "colab_type": "code",
        "colab": {}
      },
      "source": [
        "### function extracts year and month\n",
        "import datetime\n",
        "\n",
        "def get_year_month_date(data,col):\n",
        "  data[col] = pd.to_datetime(data[col] ) \n",
        "  data[col+\"_Yr\"]=data[col].dt.year\n",
        "  data[col+\"_Month\"]=data[col].dt.month\n",
        "  data[col+\"_Day\"]=data[col].dt.day\n",
        "  data[col+\"_Quarter\"]=data[\"CASE_RECEIVED_DATE\"].dt.quarter\n",
        "\n",
        "get_year_month_date(data,\"CASE_RECEIVED_DATE\")\n",
        "get_year_month_date(data,\"DECISION_DATE\")"
      ],
      "execution_count": 0,
      "outputs": []
    },
    {
      "cell_type": "code",
      "metadata": {
        "id": "hDVJUuwMXoyT",
        "colab_type": "code",
        "colab": {}
      },
      "source": [
        ""
      ],
      "execution_count": 0,
      "outputs": []
    },
    {
      "cell_type": "markdown",
      "metadata": {
        "id": "2X9AwTyNWKn-",
        "colab_type": "text"
      },
      "source": [
        "***4 1) General Trend of salary ***"
      ]
    },
    {
      "cell_type": "code",
      "metadata": {
        "id": "TaA-sgx9XYTt",
        "colab_type": "code",
        "outputId": "90e71b0c-8f62-46c0-900d-91ea82247965",
        "colab": {
          "base_uri": "https://localhost:8080/",
          "height": 515
        }
      },
      "source": [
        "def trend_chart(df2,output_var,date_var,kind=\"bar\", figsize=(8,10)):\n",
        "  df2=pd.DataFrame()\n",
        "  df2[\"median\"]=data.groupby(date_var)[output_var].median()\n",
        "  df2[\"min\"]=data.groupby(date_var)[output_var].min()\n",
        "  df2[\"max\"]=data.groupby(date_var)[output_var].max()\n",
        "  df2.plot(kind=kind, figsize=figsize)\n",
        "  plt.xlabel(date_var)\n",
        "  plt.ylabel(output_var)\n",
        "  print(\"Distribution of \",output_var)\n",
        "  \n",
        "\n",
        "\n",
        "trend_chart(data,\"PAID_WAGE_PER_YEAR\",\"CASE_RECEIVED_DATE_Yr\",kind=\"line\", figsize=(10,8))"
      ],
      "execution_count": 294,
      "outputs": [
        {
          "output_type": "stream",
          "text": [
            "Distribution of  PAID_WAGE_PER_YEAR\n"
          ],
          "name": "stdout"
        },
        {
          "output_type": "display_data",
          "data": {
            "image/png": "[encoded data removed]",
            "text/plain": [
              "<Figure size 720x576 with 1 Axes>"
            ]
          },
          "metadata": {
            "tags": []
          }
        }
      ]
    },
    {
      "cell_type": "markdown",
      "metadata": {
        "id": "ZZR5nm_bu4yg",
        "colab_type": "text"
      },
      "source": [
        "Insights : pending"
      ]
    },
    {
      "cell_type": "markdown",
      "metadata": {
        "id": "Yj3Iy-xavT3H",
        "colab_type": "text"
      },
      "source": [
        "Testing strength of trend using regression"
      ]
    },
    {
      "cell_type": "code",
      "metadata": {
        "id": "sLTqZXINXYZh",
        "colab_type": "code",
        "outputId": "e8ae8fa0-29e8-4f17-8858-ab2a9fa172f9",
        "colab": {
          "base_uri": "https://localhost:8080/",
          "height": 1000
        }
      },
      "source": [
        "### testing the strength of trend using signficance\n",
        "\n",
        "import statsmodels.api as sm\n",
        "\n",
        "def trend_signifcance_test(df2,output_var,date_var,kind=\"bar\", figsize=(8,10)):\n",
        "  df2=pd.DataFrame()\n",
        "  df2[\"Income\"]=data.groupby(date_var)[output_var].median()\n",
        "  df2[\"Application_Count\"]=data.groupby(date_var)[output_var].count()\n",
        "  df2[\"Income_Type\"]=\"Median\"\n",
        "  df2=df2.reset_index()\n",
        "  mod = sm.OLS(df2[\"Application_Count\"], df2[\"Income\"])\n",
        "  res = mod.fit()\n",
        "  print(res.summary())\n",
        "\n",
        " \n",
        "  df3=pd.DataFrame() \n",
        "  df3[\"Income\"]=data.groupby(date_var)[output_var].max()\n",
        "  df3[\"Application_Count\"]=data.groupby(date_var)[output_var].count()\n",
        "  df3[\"Income_Type\"]=\"Max\"\n",
        "  df3=df3.reset_index()\n",
        "  mod = sm.OLS(df3[\"Application_Count\"], df3[\"Income\"])\n",
        "  res = mod.fit()\n",
        "  print(res.summary()) \n",
        "\n",
        "  df4=pd.DataFrame() \n",
        "  df4[\"Income\"]=data.groupby(date_var)[output_var].min()\n",
        "  df4[\"Application_Count\"]=data.groupby(date_var)[output_var].count()\n",
        "  df4[\"Income_Type\"]=\"Min\"\n",
        "  df4=df4.reset_index()\n",
        "  mod = sm.OLS(df4[\"Application_Count\"], df4[\"Income\"])\n",
        "  res = mod.fit()\n",
        "  print(res.summary()) \n",
        "\n",
        "  df2=pd.concat([df2,df3,df4],axis=0)\n",
        "\n",
        "\n",
        "  \n",
        "  sns.lmplot(x=\"Application_Count\", y=\"Income\", hue=\"Income_Type\", data=df2)\n",
        "  plt.xlabel(\"\")\n",
        "  plt.ylabel(output_var)\n",
        "  print(\"Distribution of \",output_var)\n",
        "\n",
        "\n",
        "trend_signifcance_test(data,\"PAID_WAGE_PER_YEAR\",\"CASE_RECEIVED_DATE_Yr\",kind=\"lmplot\", figsize=(10,8))"
      ],
      "execution_count": 326,
      "outputs": [
        {
          "output_type": "stream",
          "text": [
            "/usr/local/lib/python3.6/dist-packages/scipy/stats/stats.py:1535: UserWarning: kurtosistest only valid for n>=20 ... continuing anyway, n=8\n",
            "  \"anyway, n=%i\" % int(n))\n"
          ],
          "name": "stderr"
        },
        {
          "output_type": "stream",
          "text": [
            "                                 OLS Regression Results                                \n",
            "=======================================================================================\n",
            "Dep. Variable:      Application_Count   R-squared (uncentered):                   0.439\n",
            "Model:                            OLS   Adj. R-squared (uncentered):              0.359\n",
            "Method:                 Least Squares   F-statistic:                              5.479\n",
            "Date:                Sun, 31 May 2020   Prob (F-statistic):                      0.0518\n",
            "Time:                        14:16:37   Log-Likelihood:                         -91.976\n",
            "No. Observations:                   8   AIC:                                      186.0\n",
            "Df Residuals:                       7   BIC:                                      186.0\n",
            "Df Model:                           1                                                  \n",
            "Covariance Type:            nonrobust                                                  \n",
            "==============================================================================\n",
            "                 coef    std err          t      P>|t|      [0.025      0.975]\n",
            "------------------------------------------------------------------------------\n",
            "Income         0.2711      0.116      2.341      0.052      -0.003       0.545\n",
            "==============================================================================\n",
            "Omnibus:                        1.812   Durbin-Watson:                   0.698\n",
            "Prob(Omnibus):                  0.404   Jarque-Bera (JB):                1.107\n",
            "Skew:                           0.802   Prob(JB):                        0.575\n",
            "Kurtosis:                       2.136   Cond. No.                         1.00\n",
            "==============================================================================\n",
            "\n",
            "Warnings:\n",
            "[1] Standard Errors assume that the covariance matrix of the errors is correctly specified.\n",
            "                                 OLS Regression Results                                \n",
            "=======================================================================================\n",
            "Dep. Variable:      Application_Count   R-squared (uncentered):                   0.488\n",
            "Model:                            OLS   Adj. R-squared (uncentered):              0.415\n",
            "Method:                 Least Squares   F-statistic:                              6.674\n",
            "Date:                Sun, 31 May 2020   Prob (F-statistic):                      0.0363\n",
            "Time:                        14:16:37   Log-Likelihood:                         -91.610\n",
            "No. Observations:                   8   AIC:                                      185.2\n",
            "Df Residuals:                       7   BIC:                                      185.3\n",
            "Df Model:                           1                                                  \n",
            "Covariance Type:            nonrobust                                                  \n",
            "==============================================================================\n",
            "                 coef    std err          t      P>|t|      [0.025      0.975]\n",
            "------------------------------------------------------------------------------\n",
            "Income         0.1520      0.059      2.583      0.036       0.013       0.291\n",
            "==============================================================================\n",
            "Omnibus:                        2.390   Durbin-Watson:                   0.785\n",
            "Prob(Omnibus):                  0.303   Jarque-Bera (JB):                1.290\n",
            "Skew:                           0.924   Prob(JB):                        0.525\n",
            "Kurtosis:                       2.326   Cond. No.                         1.00\n",
            "==============================================================================\n",
            "\n",
            "Warnings:\n",
            "[1] Standard Errors assume that the covariance matrix of the errors is correctly specified.\n",
            "                                 OLS Regression Results                                \n",
            "=======================================================================================\n",
            "Dep. Variable:      Application_Count   R-squared (uncentered):                   0.150\n",
            "Model:                            OLS   Adj. R-squared (uncentered):              0.028\n",
            "Method:                 Least Squares   F-statistic:                              1.231\n",
            "Date:                Sun, 31 May 2020   Prob (F-statistic):                       0.304\n",
            "Time:                        14:16:37   Log-Likelihood:                         -93.640\n",
            "No. Observations:                   8   AIC:                                      189.3\n",
            "Df Residuals:                       7   BIC:                                      189.4\n",
            "Df Model:                           1                                                  \n",
            "Covariance Type:            nonrobust                                                  \n",
            "==============================================================================\n",
            "                 coef    std err          t      P>|t|      [0.025      0.975]\n",
            "------------------------------------------------------------------------------\n",
            "Income         0.5903      0.532      1.110      0.304      -0.667       1.848\n",
            "==============================================================================\n",
            "Omnibus:                        0.910   Durbin-Watson:                   0.516\n",
            "Prob(Omnibus):                  0.634   Jarque-Bera (JB):                0.677\n",
            "Skew:                           0.561   Prob(JB):                        0.713\n",
            "Kurtosis:                       2.121   Cond. No.                         1.00\n",
            "==============================================================================\n",
            "\n",
            "Warnings:\n",
            "[1] Standard Errors assume that the covariance matrix of the errors is correctly specified.\n",
            "Distribution of  PAID_WAGE_PER_YEAR\n"
          ],
          "name": "stdout"
        },
        {
          "output_type": "display_data",
          "data": {
            "image/png": "[encoded data removed]",
            "text/plain": [
              "<Figure size 432.5x360 with 1 Axes>"
            ]
          },
          "metadata": {
            "tags": []
          }
        }
      ]
    },
    {
      "cell_type": "code",
      "metadata": {
        "id": "ThooV6RJXYc_",
        "colab_type": "code",
        "colab": {
          "base_uri": "https://localhost:8080/",
          "height": 187
        },
        "outputId": "742382aa-fe40-43fd-e9a4-53d43b9ae659"
      },
      "source": [
        "   \n",
        "\n",
        "import statsmodels.api as sm\n",
        "mod = sm.OLS(spector_data.endog, spector_data.exog)\n",
        "res = mod.fit()\n",
        "print(res.summary())"
      ],
      "execution_count": 307,
      "outputs": [
        {
          "output_type": "execute_result",
          "data": {
            "text/plain": [
              "CASE_RECEIVED_DATE_Yr\n",
              "2008        5\n",
              "2009      107\n",
              "2010      981\n",
              "2011     8957\n",
              "2012     9594\n",
              "2013    49026\n",
              "2014    67336\n",
              "2015    31268\n",
              "Name: PAID_WAGE_PER_YEAR, dtype: int64"
            ]
          },
          "metadata": {
            "tags": []
          },
          "execution_count": 307
        }
      ]
    },
    {
      "cell_type": "code",
      "metadata": {
        "id": "VVR43CA0XYh-",
        "colab_type": "code",
        "colab": {
          "base_uri": "https://localhost:8080/",
          "height": 163
        },
        "outputId": "80fd801f-fc65-4a30-9031-045c6d94a1ee"
      },
      "source": [
        "df2.head()"
      ],
      "execution_count": 319,
      "outputs": [
        {
          "output_type": "error",
          "ename": "NameError",
          "evalue": "ignored",
          "traceback": [
            "\u001b[0;31m---------------------------------------------------------------------------\u001b[0m",
            "\u001b[0;31mNameError\u001b[0m                                 Traceback (most recent call last)",
            "\u001b[0;32m<ipython-input-319-68302b2f4bd0>\u001b[0m in \u001b[0;36m<module>\u001b[0;34m()\u001b[0m\n\u001b[0;32m----> 1\u001b[0;31m \u001b[0mdf2\u001b[0m\u001b[0;34m.\u001b[0m\u001b[0mhead\u001b[0m\u001b[0;34m(\u001b[0m\u001b[0;34m)\u001b[0m\u001b[0;34m\u001b[0m\u001b[0;34m\u001b[0m\u001b[0m\n\u001b[0m",
            "\u001b[0;31mNameError\u001b[0m: name 'df2' is not defined"
          ]
        }
      ]
    },
    {
      "cell_type": "code",
      "metadata": {
        "id": "59YLkctuXYlR",
        "colab_type": "code",
        "colab": {}
      },
      "source": [
        ""
      ],
      "execution_count": 0,
      "outputs": []
    },
    {
      "cell_type": "code",
      "metadata": {
        "id": "WxohkCAzXYot",
        "colab_type": "code",
        "colab": {}
      },
      "source": [
        ""
      ],
      "execution_count": 0,
      "outputs": []
    },
    {
      "cell_type": "code",
      "metadata": {
        "id": "xQj5JN3oXYun",
        "colab_type": "code",
        "colab": {}
      },
      "source": [
        ""
      ],
      "execution_count": 0,
      "outputs": []
    },
    {
      "cell_type": "code",
      "metadata": {
        "id": "fZBRnF6wXYyN",
        "colab_type": "code",
        "colab": {}
      },
      "source": [
        ""
      ],
      "execution_count": 0,
      "outputs": []
    },
    {
      "cell_type": "code",
      "metadata": {
        "id": "g50Rj64pXY94",
        "colab_type": "code",
        "colab": {}
      },
      "source": [
        ""
      ],
      "execution_count": 0,
      "outputs": []
    },
    {
      "cell_type": "code",
      "metadata": {
        "id": "rQyjesREXY7Z",
        "colab_type": "code",
        "colab": {}
      },
      "source": [
        ""
      ],
      "execution_count": 0,
      "outputs": []
    },
    {
      "cell_type": "code",
      "metadata": {
        "id": "tCjJcuRPXY4d",
        "colab_type": "code",
        "colab": {}
      },
      "source": [
        ""
      ],
      "execution_count": 0,
      "outputs": []
    },
    {
      "cell_type": "code",
      "metadata": {
        "id": "FAFpvokzXYs8",
        "colab_type": "code",
        "colab": {}
      },
      "source": [
        ""
      ],
      "execution_count": 0,
      "outputs": []
    },
    {
      "cell_type": "code",
      "metadata": {
        "id": "__RUHxwAXYfw",
        "colab_type": "code",
        "colab": {}
      },
      "source": [
        ""
      ],
      "execution_count": 0,
      "outputs": []
    },
    {
      "cell_type": "code",
      "metadata": {
        "id": "PBIJDIZrXYRd",
        "colab_type": "code",
        "colab": {}
      },
      "source": [
        ""
      ],
      "execution_count": 0,
      "outputs": []
    },
    {
      "cell_type": "code",
      "metadata": {
        "id": "kD8ydb_vXYLu",
        "colab_type": "code",
        "colab": {}
      },
      "source": [
        ""
      ],
      "execution_count": 0,
      "outputs": []
    },
    {
      "cell_type": "code",
      "metadata": {
        "id": "XxcRJfCmXXxa",
        "colab_type": "code",
        "colab": {}
      },
      "source": [
        ""
      ],
      "execution_count": 0,
      "outputs": []
    },
    {
      "cell_type": "markdown",
      "metadata": {
        "id": "0pU5_Z1toDje",
        "colab_type": "text"
      },
      "source": [
        "**Functions**************************"
      ]
    },
    {
      "cell_type": "code",
      "metadata": {
        "id": "en3sXSsynuzB",
        "colab_type": "code",
        "colab": {}
      },
      "source": [
        "sns.set_style(\"darkgrid\")\n",
        "\n",
        "### line plot to get trend - trend analysis\n",
        "\n",
        "### 1) Date is represented as individual date.This need aggregation.\n",
        "## include datecolumn also in the feature_name\n",
        "def get_line_plot(dataframe,feature_name,date_col):\n",
        "  ### Date on X-axis / continous var on Y-axis\n",
        "  data[\"year\"]=dataframe[feature]\n",
        "  data=d\n",
        "  "
      ],
      "execution_count": 0,
      "outputs": []
    },
    {
      "cell_type": "code",
      "metadata": {
        "id": "FR2wkqRGoq9c",
        "colab_type": "code",
        "outputId": "07de6e7c-7581-4826-b2a6-64fbfcc1cb6a",
        "colab": {
          "base_uri": "https://localhost:8080/",
          "height": 276
        }
      },
      "source": [
        "get_line_plot(data,[\"PREVAILING_WAGE_SUBMITTED\",\"PAID_WAGE_SUBMITTED\"])"
      ],
      "execution_count": 0,
      "outputs": [
        {
          "output_type": "display_data",
          "data": {
            "image/png": "[encoded data removed]",
            "text/plain": [
              "<Figure size 432x288 with 1 Axes>"
            ]
          },
          "metadata": {
            "tags": []
          }
        }
      ]
    },
    {
      "cell_type": "code",
      "metadata": {
        "id": "4TdZh8tCorBU",
        "colab_type": "code",
        "outputId": "b7e023d0-ed57-4a1d-886d-a0973663ecfe",
        "colab": {
          "base_uri": "https://localhost:8080/",
          "height": 204
        }
      },
      "source": [
        "data.columns"
      ],
      "execution_count": 0,
      "outputs": [
        {
          "output_type": "execute_result",
          "data": {
            "text/plain": [
              "Index(['Index', 'CASE_NUMBER', 'CASE_STATUS', 'CASE_RECEIVED_DATE',\n",
              "       'DECISION_DATE', 'EMPLOYER_NAME', 'PREVAILING_WAGE_SUBMITTED',\n",
              "       'PREVAILING_WAGE_SUBMITTED_UNIT', 'PAID_WAGE_SUBMITTED',\n",
              "       'PAID_WAGE_SUBMITTED_UNIT', 'JOB_TITLE', 'WORK_CITY',\n",
              "       'EDUCATION_LEVEL_REQUIRED', 'COLLEGE_MAJOR_REQUIRED',\n",
              "       'EXPERIENCE_REQUIRED_Y_N', 'EXPERIENCE_REQUIRED_NUM_MONTHS',\n",
              "       'COUNTRY_OF_CITIZENSHIP', 'PREVAILING_WAGE_SOC_CODE',\n",
              "       'PREVAILING_WAGE_SOC_TITLE', 'WORK_STATE', 'WORK_POSTAL_CODE',\n",
              "       'FULL_TIME_POSITION_Y_N', 'VISA_CLASS', 'PREVAILING_WAGE_PER_YEAR',\n",
              "       'PAID_WAGE_PER_YEAR', 'JOB_TITLE_SUBGROUP', 'order'],\n",
              "      dtype='object')"
            ]
          },
          "metadata": {
            "tags": []
          },
          "execution_count": 24
        }
      ]
    },
    {
      "cell_type": "markdown",
      "metadata": {
        "id": "ggAS0gnaomui",
        "colab_type": "text"
      },
      "source": [
        "**end of functions**"
      ]
    },
    {
      "cell_type": "code",
      "metadata": {
        "id": "VW5oCZZJQ5ZU",
        "colab_type": "code",
        "colab": {}
      },
      "source": [
        "### Functions for plotting and visualization\n",
        "\n",
        "### This plots bar chart with proportions\n",
        "def get_bar_plot(dataframe,feature_name):\n",
        "  \n",
        "   df=pd.DataFrame(dataframe[feature_name])\n",
        "   df[\"Proportion (%)\"]=1\n",
        "   df=df.groupby([feature_name]).agg({\"Proportion (%)\":\"count\"}).reset_index()\n",
        "   df[\"Proportion (%)\"]=df[\"Proportion (%)\"]/df[\"Proportion (%)\"].sum()*100\n",
        "   sns.barplot(x=\"Proportion (%)\", y=feature_name,data=df)\n",
        "   title_name=\"Distribution of \" + feature_name \n",
        "   plt.title(title_name)\n",
        "   plt.show()\n",
        "\n",
        "\n",
        "\n",
        "###############################################################################################################\n",
        "#### Draw bar and box plot - with Quartiles\n",
        "\n",
        "from numpy import median\n",
        "def get_bar_facet_plot(data,var,output_var,chart_type=plt.hist,hue=None,col=None):\n",
        "  df=pd.DataFrame(data[var])\n",
        "  df[\"Proportion (%)\"]=1\n",
        "  df=df.groupby([var]).agg({\"Proportion (%)\":\"count\"}).reset_index()\n",
        "  df[\"Proportion (%)\"]=df[\"Proportion (%)\"]/df[\"Proportion (%)\"].sum()*100\n",
        "  sns.barplot(x=\"Proportion (%)\", y=var,data=df)\n",
        "  title_name=\"Proportion of \" + var \n",
        "  plt.title(title_name)\n",
        "  plt.show()\n",
        "\n",
        "### code to calculate median value\n",
        "  \n",
        "  print(\"Distribution of\",output_var ,\"based on \",var)\n",
        "  \n",
        "  plt.figure(figsize=(16, 16))\n",
        "  #g = sns.catplot(x=output_var, y=var,\n",
        "   #             hue=hue, col=col,\n",
        "    #            data=data, kind=\"bar\",\n",
        "     #           height=4, aspect=.7);\n",
        "  \n",
        "  sns.barplot(x=output_var, y=var, data=data, estimator=median,hue=hue)\n",
        "  plt.show()\n",
        "\n",
        "### code to plot based on output value\n",
        "  plt.figure(figsize=(16, 16))\n",
        "  g = sns.FacetGrid(data, col=var,palette='Set1')\n",
        "  g.map(chart_type, output_var,color=\"r\");\n",
        "  #title_name1=\"Distribution of Median\" +output_variable+ var \n",
        "  #plt.title(title_name1)\n",
        "  print(\"Distribution of\",output_var ,\"based on \",var)\n",
        "  plt.show()   \n"
      ],
      "execution_count": 0,
      "outputs": []
    },
    {
      "cell_type": "code",
      "metadata": {
        "id": "gfCsutkF89iP",
        "colab_type": "code",
        "colab": {}
      },
      "source": [
        "#### salary data is avaialable in 2020 folder"
      ],
      "execution_count": 0,
      "outputs": []
    },
    {
      "cell_type": "code",
      "metadata": {
        "id": "HPxfp6IK9Kfx",
        "colab_type": "code",
        "colab": {}
      },
      "source": [
        "### Importing data\n",
        "data=pd.read_csv(\"/content/salary_data.csv\")"
      ],
      "execution_count": 0,
      "outputs": []
    },
    {
      "cell_type": "code",
      "metadata": {
        "id": "gCENaz9X9c9Y",
        "colab_type": "code",
        "outputId": "8bf2e01f-34a9-465d-eb5c-2939c4cbf050",
        "colab": {
          "base_uri": "https://localhost:8080/",
          "height": 445
        }
      },
      "source": [
        "data.head()"
      ],
      "execution_count": 0,
      "outputs": [
        {
          "output_type": "execute_result",
          "data": {
            "text/html": [
              "<div>\n",
              "<style scoped>\n",
              "    .dataframe tbody tr th:only-of-type {\n",
              "        vertical-align: middle;\n",
              "    }\n",
              "\n",
              "    .dataframe tbody tr th {\n",
              "        vertical-align: top;\n",
              "    }\n",
              "\n",
              "    .dataframe thead th {\n",
              "        text-align: right;\n",
              "    }\n",
              "</style>\n",
              "<table border=\"1\" class=\"dataframe\">\n",
              "  <thead>\n",
              "    <tr style=\"text-align: right;\">\n",
              "      <th></th>\n",
              "      <th>Index</th>\n",
              "      <th>CASE_NUMBER</th>\n",
              "      <th>CASE_STATUS</th>\n",
              "      <th>CASE_RECEIVED_DATE</th>\n",
              "      <th>DECISION_DATE</th>\n",
              "      <th>EMPLOYER_NAME</th>\n",
              "      <th>PREVAILING_WAGE_SUBMITTED</th>\n",
              "      <th>PREVAILING_WAGE_SUBMITTED_UNIT</th>\n",
              "      <th>PAID_WAGE_SUBMITTED</th>\n",
              "      <th>PAID_WAGE_SUBMITTED_UNIT</th>\n",
              "      <th>JOB_TITLE</th>\n",
              "      <th>WORK_CITY</th>\n",
              "      <th>EDUCATION_LEVEL_REQUIRED</th>\n",
              "      <th>COLLEGE_MAJOR_REQUIRED</th>\n",
              "      <th>EXPERIENCE_REQUIRED_Y_N</th>\n",
              "      <th>EXPERIENCE_REQUIRED_NUM_MONTHS</th>\n",
              "      <th>COUNTRY_OF_CITIZENSHIP</th>\n",
              "      <th>PREVAILING_WAGE_SOC_CODE</th>\n",
              "      <th>PREVAILING_WAGE_SOC_TITLE</th>\n",
              "      <th>WORK_STATE</th>\n",
              "      <th>WORK_POSTAL_CODE</th>\n",
              "      <th>FULL_TIME_POSITION_Y_N</th>\n",
              "      <th>VISA_CLASS</th>\n",
              "      <th>PREVAILING_WAGE_PER_YEAR</th>\n",
              "      <th>PAID_WAGE_PER_YEAR</th>\n",
              "      <th>JOB_TITLE_SUBGROUP</th>\n",
              "      <th>order</th>\n",
              "    </tr>\n",
              "  </thead>\n",
              "  <tbody>\n",
              "    <tr>\n",
              "      <th>0</th>\n",
              "      <td>1</td>\n",
              "      <td>I-200-14073-248840</td>\n",
              "      <td>denied</td>\n",
              "      <td>3/14/2014</td>\n",
              "      <td>3/21/2014</td>\n",
              "      <td>ADVANCED TECHNOLOGY GROUP USA, INC.</td>\n",
              "      <td>6217100.0</td>\n",
              "      <td>year</td>\n",
              "      <td>62171.0</td>\n",
              "      <td>year</td>\n",
              "      <td>SOFTWARE ENGINEER</td>\n",
              "      <td>BLOOMINGTON</td>\n",
              "      <td>NaN</td>\n",
              "      <td>NaN</td>\n",
              "      <td>NaN</td>\n",
              "      <td>NaN</td>\n",
              "      <td>NaN</td>\n",
              "      <td>15-1132</td>\n",
              "      <td>Software Developers, Applications</td>\n",
              "      <td>IL</td>\n",
              "      <td>NaN</td>\n",
              "      <td>y</td>\n",
              "      <td>H-1B</td>\n",
              "      <td>NaN</td>\n",
              "      <td>62171.0</td>\n",
              "      <td>software engineer</td>\n",
              "      <td>1.0</td>\n",
              "    </tr>\n",
              "    <tr>\n",
              "      <th>1</th>\n",
              "      <td>2</td>\n",
              "      <td>A-15061-55212</td>\n",
              "      <td>denied</td>\n",
              "      <td>3/19/2015</td>\n",
              "      <td>3/19/2015</td>\n",
              "      <td>SAN FRANCISCO STATE UNIVERSITY</td>\n",
              "      <td>5067600.0</td>\n",
              "      <td>year</td>\n",
              "      <td>91440.0</td>\n",
              "      <td>year</td>\n",
              "      <td>Assistant Professor of Marketing</td>\n",
              "      <td>SAN FRANCISCO</td>\n",
              "      <td>Doctorate</td>\n",
              "      <td>marketing</td>\n",
              "      <td>n</td>\n",
              "      <td>NaN</td>\n",
              "      <td>IRAN</td>\n",
              "      <td>25-1011</td>\n",
              "      <td>Business Teachers, Postsecondary</td>\n",
              "      <td>CALIFORNIA</td>\n",
              "      <td>94132</td>\n",
              "      <td>NaN</td>\n",
              "      <td>greencard</td>\n",
              "      <td>NaN</td>\n",
              "      <td>91440.0</td>\n",
              "      <td>assistant professor</td>\n",
              "      <td>2.0</td>\n",
              "    </tr>\n",
              "    <tr>\n",
              "      <th>2</th>\n",
              "      <td>3</td>\n",
              "      <td>I-200-13256-001092</td>\n",
              "      <td>denied</td>\n",
              "      <td>9/13/2013</td>\n",
              "      <td>9/23/2013</td>\n",
              "      <td>CAROUSEL SCHOOL</td>\n",
              "      <td>4947000.0</td>\n",
              "      <td>year</td>\n",
              "      <td>49470.0</td>\n",
              "      <td>year</td>\n",
              "      <td>SPECIAL EDUCATION TEACHER</td>\n",
              "      <td>LOS ANGELES</td>\n",
              "      <td>NaN</td>\n",
              "      <td>NaN</td>\n",
              "      <td>NaN</td>\n",
              "      <td>NaN</td>\n",
              "      <td>NaN</td>\n",
              "      <td>25-2052</td>\n",
              "      <td>Special Education Teachers, Kindergarten and E...</td>\n",
              "      <td>CA</td>\n",
              "      <td>NaN</td>\n",
              "      <td>y</td>\n",
              "      <td>H-1B</td>\n",
              "      <td>NaN</td>\n",
              "      <td>49470.0</td>\n",
              "      <td>teacher</td>\n",
              "      <td>3.0</td>\n",
              "    </tr>\n",
              "    <tr>\n",
              "      <th>3</th>\n",
              "      <td>4</td>\n",
              "      <td>I-200-14087-353657</td>\n",
              "      <td>denied</td>\n",
              "      <td>3/28/2014</td>\n",
              "      <td>4/7/2014</td>\n",
              "      <td>HARLINGEN CONSOLIDATED INDEPENDENT SCHOOL DIST...</td>\n",
              "      <td>251052.0</td>\n",
              "      <td>month</td>\n",
              "      <td>43800.0</td>\n",
              "      <td>year</td>\n",
              "      <td>SCIENCE TEACHER</td>\n",
              "      <td>HARLINGEN CISD</td>\n",
              "      <td>NaN</td>\n",
              "      <td>NaN</td>\n",
              "      <td>NaN</td>\n",
              "      <td>NaN</td>\n",
              "      <td>NaN</td>\n",
              "      <td>25-1042</td>\n",
              "      <td>Biological Science Teachers, Postsecondary</td>\n",
              "      <td>TX</td>\n",
              "      <td>NaN</td>\n",
              "      <td>y</td>\n",
              "      <td>H-1B</td>\n",
              "      <td>NaN</td>\n",
              "      <td>43800.0</td>\n",
              "      <td>teacher</td>\n",
              "      <td>4.0</td>\n",
              "    </tr>\n",
              "    <tr>\n",
              "      <th>4</th>\n",
              "      <td>5</td>\n",
              "      <td>I-203-14259-128844</td>\n",
              "      <td>denied</td>\n",
              "      <td>9/16/2014</td>\n",
              "      <td>9/23/2014</td>\n",
              "      <td>SIGNAL SCIENCES CORPORATION</td>\n",
              "      <td>84573.0</td>\n",
              "      <td>bi-weekly</td>\n",
              "      <td>170000.0</td>\n",
              "      <td>year</td>\n",
              "      <td>SENIOR SOFTWARE ENGINEER</td>\n",
              "      <td>PORTLAND</td>\n",
              "      <td>NaN</td>\n",
              "      <td>NaN</td>\n",
              "      <td>NaN</td>\n",
              "      <td>NaN</td>\n",
              "      <td>NaN</td>\n",
              "      <td>15-1133</td>\n",
              "      <td>Software Developers, Systems Software</td>\n",
              "      <td>OR</td>\n",
              "      <td>NaN</td>\n",
              "      <td>y</td>\n",
              "      <td>E-3 Australian</td>\n",
              "      <td>NaN</td>\n",
              "      <td>170000.0</td>\n",
              "      <td>software engineer</td>\n",
              "      <td>5.0</td>\n",
              "    </tr>\n",
              "  </tbody>\n",
              "</table>\n",
              "</div>"
            ],
            "text/plain": [
              "   Index         CASE_NUMBER  ...   JOB_TITLE_SUBGROUP order\n",
              "0      1  I-200-14073-248840  ...    software engineer   1.0\n",
              "1      2       A-15061-55212  ...  assistant professor   2.0\n",
              "2      3  I-200-13256-001092  ...              teacher   3.0\n",
              "3      4  I-200-14087-353657  ...              teacher   4.0\n",
              "4      5  I-203-14259-128844  ...    software engineer   5.0\n",
              "\n",
              "[5 rows x 27 columns]"
            ]
          },
          "metadata": {
            "tags": []
          },
          "execution_count": 8
        }
      ]
    },
    {
      "cell_type": "code",
      "metadata": {
        "id": "jlzxP_Hf-jWs",
        "colab_type": "code",
        "outputId": "8e815607-3763-4d52-b035-5be6b289fd34",
        "colab": {
          "base_uri": "https://localhost:8080/",
          "height": 34
        }
      },
      "source": [
        "data.shape"
      ],
      "execution_count": 0,
      "outputs": [
        {
          "output_type": "execute_result",
          "data": {
            "text/plain": [
              "(167275, 27)"
            ]
          },
          "metadata": {
            "tags": []
          },
          "execution_count": 71
        }
      ]
    },
    {
      "cell_type": "code",
      "metadata": {
        "id": "cWFiY0HS_fLN",
        "colab_type": "code",
        "outputId": "525dc279-e917-4be2-ce69-227b89405fbe",
        "colab": {
          "base_uri": "https://localhost:8080/",
          "height": 71
        }
      },
      "source": [
        "### setting independent variable and dependent variable\n",
        "dependent_var=\"PAID_WAGE_PER_YEAR\"\n",
        "independent_var=data.drop(dependent_var,axis=1).columns.to_list()\n",
        "print((dependent_var))\n",
        "print(independent_var)\n",
        "\n"
      ],
      "execution_count": 0,
      "outputs": [
        {
          "output_type": "stream",
          "text": [
            "PAID_WAGE_PER_YEAR\n",
            "['Index', 'CASE_NUMBER', 'CASE_STATUS', 'CASE_RECEIVED_DATE', 'DECISION_DATE', 'EMPLOYER_NAME', 'PREVAILING_WAGE_SUBMITTED', 'PREVAILING_WAGE_SUBMITTED_UNIT', 'PAID_WAGE_SUBMITTED', 'PAID_WAGE_SUBMITTED_UNIT', 'JOB_TITLE', 'WORK_CITY', 'EDUCATION_LEVEL_REQUIRED', 'COLLEGE_MAJOR_REQUIRED', 'EXPERIENCE_REQUIRED_Y_N', 'EXPERIENCE_REQUIRED_NUM_MONTHS', 'COUNTRY_OF_CITIZENSHIP', 'PREVAILING_WAGE_SOC_CODE', 'PREVAILING_WAGE_SOC_TITLE', 'WORK_STATE', 'WORK_POSTAL_CODE', 'FULL_TIME_POSITION_Y_N', 'VISA_CLASS', 'PREVAILING_WAGE_PER_YEAR', 'JOB_TITLE_SUBGROUP', 'order']\n"
          ],
          "name": "stdout"
        }
      ]
    },
    {
      "cell_type": "code",
      "metadata": {
        "id": "vt7FPLqLORFX",
        "colab_type": "code",
        "outputId": "6b651596-a2c0-4538-d6d7-91c8d9a5e560",
        "colab": {
          "base_uri": "https://localhost:8080/",
          "height": 88
        }
      },
      "source": [
        "### Splitting numerical ,discreate and categorical \n",
        "\n",
        "## splitting categorical and numerical variable\n",
        "categorical_var=[var for var in data.columns if data[var].dtypes=='object']\n",
        "numerical_var=[var for var in data.columns if data[var].dtypes ==('float64' or 'int64')]\n",
        "discrete_var=[]\n",
        "print(\"Categorical variables are\",categorical_var)\n",
        "print(\"numerical variables are\",numerical_var)\n",
        "print(\"discrete variables are\",discrete_var)\n",
        "\n",
        "\n",
        "\n"
      ],
      "execution_count": 0,
      "outputs": [
        {
          "output_type": "stream",
          "text": [
            "Categorical variables are ['CASE_NUMBER', 'CASE_STATUS', 'CASE_RECEIVED_DATE', 'DECISION_DATE', 'EMPLOYER_NAME', 'PREVAILING_WAGE_SUBMITTED_UNIT', 'PAID_WAGE_SUBMITTED_UNIT', 'JOB_TITLE', 'WORK_CITY', 'EDUCATION_LEVEL_REQUIRED', 'COLLEGE_MAJOR_REQUIRED', 'EXPERIENCE_REQUIRED_Y_N', 'COUNTRY_OF_CITIZENSHIP', 'PREVAILING_WAGE_SOC_CODE', 'PREVAILING_WAGE_SOC_TITLE', 'WORK_STATE', 'WORK_POSTAL_CODE', 'FULL_TIME_POSITION_Y_N', 'VISA_CLASS', 'JOB_TITLE_SUBGROUP']\n",
            "numerical variables are ['PREVAILING_WAGE_SUBMITTED', 'PAID_WAGE_SUBMITTED', 'EXPERIENCE_REQUIRED_NUM_MONTHS', 'PREVAILING_WAGE_PER_YEAR', 'PAID_WAGE_PER_YEAR']\n",
            "discrete variables are []\n"
          ],
          "name": "stdout"
        }
      ]
    },
    {
      "cell_type": "code",
      "metadata": {
        "id": "Eu_4xzi3PBL6",
        "colab_type": "code",
        "outputId": "06ade958-66c3-441f-9f5d-9b8313de0c2a",
        "colab": {
          "base_uri": "https://localhost:8080/",
          "height": 85
        }
      },
      "source": [
        "### verifiying if there are any columns appearing in both split\n",
        "\n",
        "print(\"Checking if there are duplicate columns or not\")\n",
        "print([var for var in numerical_var if var in (categorical_var or discrete_var) ])\n",
        "print([var for var in discrete_var if var in (categorical_var or numerical_var) ])\n",
        "print([var for var in categorical_var if var in ( discrete_var or numerical_var) ])"
      ],
      "execution_count": 0,
      "outputs": [
        {
          "output_type": "stream",
          "text": [
            "Checking if there are duplicate columns or not\n",
            "[]\n",
            "[]\n",
            "[]\n"
          ],
          "name": "stdout"
        }
      ]
    },
    {
      "cell_type": "markdown",
      "metadata": {
        "id": "e41Tk_FhQWKJ",
        "colab_type": "text"
      },
      "source": [
        "***1)Plan Analysis***"
      ]
    },
    {
      "cell_type": "markdown",
      "metadata": {
        "id": "smcBh5cKQFze",
        "colab_type": "text"
      },
      "source": [
        ""
      ]
    },
    {
      "cell_type": "markdown",
      "metadata": {
        "id": "TNph_8DDQGDN",
        "colab_type": "text"
      },
      "source": [
        "****2) Ask Questions***\n",
        "\n",
        "***1) Do specific sub-types of data-related jobs have higher or lower salaries than others?***\n",
        "\n",
        "\n",
        "***2)Do salaries change based on visa type (very important to know if you are not a US citizen)?***"
      ]
    },
    {
      "cell_type": "code",
      "metadata": {
        "id": "Ig58mvyrR5J-",
        "colab_type": "code",
        "colab": {}
      },
      "source": [
        ""
      ],
      "execution_count": 0,
      "outputs": []
    },
    {
      "cell_type": "markdown",
      "metadata": {
        "id": "ErJ-dYl2R6xx",
        "colab_type": "text"
      },
      "source": [
        "***1) Do specific sub-types of data-related jobs have higher or lower salaries than others?***"
      ]
    },
    {
      "cell_type": "code",
      "metadata": {
        "id": "cY60yLSmPJPJ",
        "colab_type": "code",
        "outputId": "f6d00e9c-fb01-48e1-e424-98683a0507ac",
        "colab": {
          "base_uri": "https://localhost:8080/",
          "height": 197
        }
      },
      "source": [
        "var=\"JOB_TITLE_SUBGROUP\"\n",
        "output_variable=dependent_var\n",
        "get_bar_facet_plot(data,var,output_variable)"
      ],
      "execution_count": 0,
      "outputs": [
        {
          "output_type": "error",
          "ename": "NameError",
          "evalue": "ignored",
          "traceback": [
            "\u001b[0;31m---------------------------------------------------------------------------\u001b[0m",
            "\u001b[0;31mNameError\u001b[0m                                 Traceback (most recent call last)",
            "\u001b[0;32m<ipython-input-4-5919b00cf7cb>\u001b[0m in \u001b[0;36m<module>\u001b[0;34m()\u001b[0m\n\u001b[1;32m      1\u001b[0m \u001b[0mvar\u001b[0m\u001b[0;34m=\u001b[0m\u001b[0;34m\"JOB_TITLE_SUBGROUP\"\u001b[0m\u001b[0;34m\u001b[0m\u001b[0;34m\u001b[0m\u001b[0m\n\u001b[0;32m----> 2\u001b[0;31m \u001b[0moutput_variable\u001b[0m\u001b[0;34m=\u001b[0m\u001b[0mdependent_var\u001b[0m\u001b[0;34m\u001b[0m\u001b[0;34m\u001b[0m\u001b[0m\n\u001b[0m\u001b[1;32m      3\u001b[0m \u001b[0mget_bar_facet_plot\u001b[0m\u001b[0;34m(\u001b[0m\u001b[0mdata\u001b[0m\u001b[0;34m,\u001b[0m\u001b[0mvar\u001b[0m\u001b[0;34m,\u001b[0m\u001b[0moutput_variable\u001b[0m\u001b[0;34m)\u001b[0m\u001b[0;34m\u001b[0m\u001b[0;34m\u001b[0m\u001b[0m\n",
            "\u001b[0;31mNameError\u001b[0m: name 'dependent_var' is not defined"
          ]
        }
      ]
    },
    {
      "cell_type": "markdown",
      "metadata": {
        "id": "ISHNV5frSGSv",
        "colab_type": "text"
      },
      "source": [
        "***2)Do salaries change based on visa type (very important to know if you are not a US citizen)?***"
      ]
    },
    {
      "cell_type": "code",
      "metadata": {
        "id": "8yS381v7Ruvw",
        "colab_type": "code",
        "outputId": "59138786-0fe7-4526-c776-3f7b956d1935",
        "colab": {
          "base_uri": "https://localhost:8080/",
          "height": 934
        }
      },
      "source": [
        "var=\"JOB_TITLE_SUBGROUP\"\n",
        "output_variable=dependent_var\n",
        "get_bar_facet_plot(data,var,output_variable,hue=\"VISA_CLASS\")"
      ],
      "execution_count": 0,
      "outputs": [
        {
          "output_type": "display_data",
          "data": {
            "image/png": "[encoded data removed]",
            "text/plain": [
              "<Figure size 432x288 with 1 Axes>"
            ]
          },
          "metadata": {
            "tags": []
          }
        },
        {
          "output_type": "stream",
          "text": [
            "Distribution of PAID_WAGE_PER_YEAR based on  JOB_TITLE_SUBGROUP\n"
          ],
          "name": "stdout"
        },
        {
          "output_type": "error",
          "ename": "ValueError",
          "evalue": "ignored",
          "traceback": [
            "\u001b[0;31m---------------------------------------------------------------------------\u001b[0m",
            "\u001b[0;31mValueError\u001b[0m                                Traceback (most recent call last)",
            "\u001b[0;32m<ipython-input-135-8e19b2f1fa94>\u001b[0m in \u001b[0;36m<module>\u001b[0;34m()\u001b[0m\n\u001b[1;32m      1\u001b[0m \u001b[0mvar\u001b[0m\u001b[0;34m=\u001b[0m\u001b[0;34m\"JOB_TITLE_SUBGROUP\"\u001b[0m\u001b[0;34m\u001b[0m\u001b[0;34m\u001b[0m\u001b[0m\n\u001b[1;32m      2\u001b[0m \u001b[0moutput_variable\u001b[0m\u001b[0;34m=\u001b[0m\u001b[0mdependent_var\u001b[0m\u001b[0;34m\u001b[0m\u001b[0;34m\u001b[0m\u001b[0m\n\u001b[0;32m----> 3\u001b[0;31m \u001b[0mget_bar_facet_plot\u001b[0m\u001b[0;34m(\u001b[0m\u001b[0mdata\u001b[0m\u001b[0;34m,\u001b[0m\u001b[0mvar\u001b[0m\u001b[0;34m,\u001b[0m\u001b[0moutput_variable\u001b[0m\u001b[0;34m,\u001b[0m\u001b[0mhue\u001b[0m\u001b[0;34m=\u001b[0m\u001b[0;34m\"VISA_CLASS\"\u001b[0m\u001b[0;34m)\u001b[0m\u001b[0;34m\u001b[0m\u001b[0;34m\u001b[0m\u001b[0m\n\u001b[0m",
            "\u001b[0;32m<ipython-input-134-fe7efae20724>\u001b[0m in \u001b[0;36mget_bar_facet_plot\u001b[0;34m(data, var, output_var, chart_type, hue, col)\u001b[0m\n\u001b[1;32m     37\u001b[0m                 \u001b[0mhue\u001b[0m\u001b[0;34m=\u001b[0m\u001b[0mhue\u001b[0m\u001b[0;34m,\u001b[0m \u001b[0mcol\u001b[0m\u001b[0;34m=\u001b[0m\u001b[0mcol\u001b[0m\u001b[0;34m,\u001b[0m\u001b[0;34m\u001b[0m\u001b[0;34m\u001b[0m\u001b[0m\n\u001b[1;32m     38\u001b[0m                 \u001b[0mdata\u001b[0m\u001b[0;34m=\u001b[0m\u001b[0mdata\u001b[0m\u001b[0;34m,\u001b[0m \u001b[0mkind\u001b[0m\u001b[0;34m=\u001b[0m\u001b[0;34m\"bar\"\u001b[0m\u001b[0;34m,\u001b[0m\u001b[0;34m\u001b[0m\u001b[0;34m\u001b[0m\u001b[0m\n\u001b[0;32m---> 39\u001b[0;31m                 height=4, aspect=.7);\n\u001b[0m\u001b[1;32m     40\u001b[0m \u001b[0;34m\u001b[0m\u001b[0m\n\u001b[1;32m     41\u001b[0m   \u001b[0;31m#sns.barplot(x=output_var, y=var, data=data, estimator=median,hue=hue)\u001b[0m\u001b[0;34m\u001b[0m\u001b[0;34m\u001b[0m\u001b[0;34m\u001b[0m\u001b[0m\n",
            "\u001b[0;32m/usr/local/lib/python3.6/dist-packages/seaborn/categorical.py\u001b[0m in \u001b[0;36mcatplot\u001b[0;34m(x, y, hue, data, row, col, col_wrap, estimator, ci, n_boot, units, seed, order, hue_order, row_order, col_order, kind, height, aspect, orient, color, palette, legend, legend_out, sharex, sharey, margin_titles, facet_kws, **kwargs)\u001b[0m\n\u001b[1;32m   3771\u001b[0m     \u001b[0;32mif\u001b[0m \u001b[0mlegend\u001b[0m \u001b[0;32mand\u001b[0m \u001b[0;34m(\u001b[0m\u001b[0mhue\u001b[0m \u001b[0;32mis\u001b[0m \u001b[0;32mnot\u001b[0m \u001b[0;32mNone\u001b[0m\u001b[0;34m)\u001b[0m \u001b[0;32mand\u001b[0m \u001b[0;34m(\u001b[0m\u001b[0mhue\u001b[0m \u001b[0;32mnot\u001b[0m \u001b[0;32min\u001b[0m \u001b[0;34m[\u001b[0m\u001b[0mx\u001b[0m\u001b[0;34m,\u001b[0m \u001b[0mrow\u001b[0m\u001b[0;34m,\u001b[0m \u001b[0mcol\u001b[0m\u001b[0;34m]\u001b[0m\u001b[0;34m)\u001b[0m\u001b[0;34m:\u001b[0m\u001b[0;34m\u001b[0m\u001b[0;34m\u001b[0m\u001b[0m\n\u001b[1;32m   3772\u001b[0m         \u001b[0mhue_order\u001b[0m \u001b[0;34m=\u001b[0m \u001b[0mlist\u001b[0m\u001b[0;34m(\u001b[0m\u001b[0mmap\u001b[0m\u001b[0;34m(\u001b[0m\u001b[0mutils\u001b[0m\u001b[0;34m.\u001b[0m\u001b[0mto_utf8\u001b[0m\u001b[0;34m,\u001b[0m \u001b[0mhue_order\u001b[0m\u001b[0;34m)\u001b[0m\u001b[0;34m)\u001b[0m\u001b[0;34m\u001b[0m\u001b[0;34m\u001b[0m\u001b[0m\n\u001b[0;32m-> 3773\u001b[0;31m         \u001b[0mg\u001b[0m\u001b[0;34m.\u001b[0m\u001b[0madd_legend\u001b[0m\u001b[0;34m(\u001b[0m\u001b[0mtitle\u001b[0m\u001b[0;34m=\u001b[0m\u001b[0mhue\u001b[0m\u001b[0;34m,\u001b[0m \u001b[0mlabel_order\u001b[0m\u001b[0;34m=\u001b[0m\u001b[0mhue_order\u001b[0m\u001b[0;34m)\u001b[0m\u001b[0;34m\u001b[0m\u001b[0;34m\u001b[0m\u001b[0m\n\u001b[0m\u001b[1;32m   3774\u001b[0m \u001b[0;34m\u001b[0m\u001b[0m\n\u001b[1;32m   3775\u001b[0m     \u001b[0;32mreturn\u001b[0m \u001b[0mg\u001b[0m\u001b[0;34m\u001b[0m\u001b[0;34m\u001b[0m\u001b[0m\n",
            "\u001b[0;32m/usr/local/lib/python3.6/dist-packages/seaborn/axisgrid.py\u001b[0m in \u001b[0;36madd_legend\u001b[0;34m(self, legend_data, title, label_order, **kwargs)\u001b[0m\n\u001b[1;32m    124\u001b[0m \u001b[0;34m\u001b[0m\u001b[0m\n\u001b[1;32m    125\u001b[0m             \u001b[0;31m# Place the subplot axes to give space for the legend\u001b[0m\u001b[0;34m\u001b[0m\u001b[0;34m\u001b[0m\u001b[0;34m\u001b[0m\u001b[0m\n\u001b[0;32m--> 126\u001b[0;31m             \u001b[0mself\u001b[0m\u001b[0;34m.\u001b[0m\u001b[0mfig\u001b[0m\u001b[0;34m.\u001b[0m\u001b[0msubplots_adjust\u001b[0m\u001b[0;34m(\u001b[0m\u001b[0mright\u001b[0m\u001b[0;34m=\u001b[0m\u001b[0mright\u001b[0m\u001b[0;34m)\u001b[0m\u001b[0;34m\u001b[0m\u001b[0;34m\u001b[0m\u001b[0m\n\u001b[0m\u001b[1;32m    127\u001b[0m \u001b[0;34m\u001b[0m\u001b[0m\n\u001b[1;32m    128\u001b[0m         \u001b[0;32melse\u001b[0m\u001b[0;34m:\u001b[0m\u001b[0;34m\u001b[0m\u001b[0;34m\u001b[0m\u001b[0m\n",
            "\u001b[0;32m/usr/local/lib/python3.6/dist-packages/matplotlib/figure.py\u001b[0m in \u001b[0;36msubplots_adjust\u001b[0;34m(self, left, bottom, right, top, wspace, hspace)\u001b[0m\n\u001b[1;32m   2256\u001b[0m                                  \u001b[0;34m\"tight_layout: setting \"\u001b[0m\u001b[0;34m\u001b[0m\u001b[0;34m\u001b[0m\u001b[0m\n\u001b[1;32m   2257\u001b[0m                                  \"constrained_layout==False. \")\n\u001b[0;32m-> 2258\u001b[0;31m         \u001b[0mself\u001b[0m\u001b[0;34m.\u001b[0m\u001b[0msubplotpars\u001b[0m\u001b[0;34m.\u001b[0m\u001b[0mupdate\u001b[0m\u001b[0;34m(\u001b[0m\u001b[0mleft\u001b[0m\u001b[0;34m,\u001b[0m \u001b[0mbottom\u001b[0m\u001b[0;34m,\u001b[0m \u001b[0mright\u001b[0m\u001b[0;34m,\u001b[0m \u001b[0mtop\u001b[0m\u001b[0;34m,\u001b[0m \u001b[0mwspace\u001b[0m\u001b[0;34m,\u001b[0m \u001b[0mhspace\u001b[0m\u001b[0;34m)\u001b[0m\u001b[0;34m\u001b[0m\u001b[0;34m\u001b[0m\u001b[0m\n\u001b[0m\u001b[1;32m   2259\u001b[0m         \u001b[0;32mfor\u001b[0m \u001b[0max\u001b[0m \u001b[0;32min\u001b[0m \u001b[0mself\u001b[0m\u001b[0;34m.\u001b[0m\u001b[0maxes\u001b[0m\u001b[0;34m:\u001b[0m\u001b[0;34m\u001b[0m\u001b[0;34m\u001b[0m\u001b[0m\n\u001b[1;32m   2260\u001b[0m             \u001b[0;32mif\u001b[0m \u001b[0;32mnot\u001b[0m \u001b[0misinstance\u001b[0m\u001b[0;34m(\u001b[0m\u001b[0max\u001b[0m\u001b[0;34m,\u001b[0m \u001b[0mSubplotBase\u001b[0m\u001b[0;34m)\u001b[0m\u001b[0;34m:\u001b[0m\u001b[0;34m\u001b[0m\u001b[0;34m\u001b[0m\u001b[0m\n",
            "\u001b[0;32m/usr/local/lib/python3.6/dist-packages/matplotlib/figure.py\u001b[0m in \u001b[0;36mupdate\u001b[0;34m(self, left, bottom, right, top, wspace, hspace)\u001b[0m\n\u001b[1;32m    227\u001b[0m             \u001b[0;32mif\u001b[0m \u001b[0mself\u001b[0m\u001b[0;34m.\u001b[0m\u001b[0mleft\u001b[0m \u001b[0;34m>=\u001b[0m \u001b[0mself\u001b[0m\u001b[0;34m.\u001b[0m\u001b[0mright\u001b[0m\u001b[0;34m:\u001b[0m\u001b[0;34m\u001b[0m\u001b[0;34m\u001b[0m\u001b[0m\n\u001b[1;32m    228\u001b[0m                 \u001b[0mreset\u001b[0m\u001b[0;34m(\u001b[0m\u001b[0;34m)\u001b[0m\u001b[0;34m\u001b[0m\u001b[0;34m\u001b[0m\u001b[0m\n\u001b[0;32m--> 229\u001b[0;31m                 \u001b[0;32mraise\u001b[0m \u001b[0mValueError\u001b[0m\u001b[0;34m(\u001b[0m\u001b[0;34m'left cannot be >= right'\u001b[0m\u001b[0;34m)\u001b[0m\u001b[0;34m\u001b[0m\u001b[0;34m\u001b[0m\u001b[0m\n\u001b[0m\u001b[1;32m    230\u001b[0m \u001b[0;34m\u001b[0m\u001b[0m\n\u001b[1;32m    231\u001b[0m             \u001b[0;32mif\u001b[0m \u001b[0mself\u001b[0m\u001b[0;34m.\u001b[0m\u001b[0mbottom\u001b[0m \u001b[0;34m>=\u001b[0m \u001b[0mself\u001b[0m\u001b[0;34m.\u001b[0m\u001b[0mtop\u001b[0m\u001b[0;34m:\u001b[0m\u001b[0;34m\u001b[0m\u001b[0;34m\u001b[0m\u001b[0m\n",
            "\u001b[0;31mValueError\u001b[0m: left cannot be >= right"
          ]
        },
        {
          "output_type": "display_data",
          "data": {
            "text/plain": [
              "<Figure size 1152x1152 with 0 Axes>"
            ]
          },
          "metadata": {
            "tags": []
          }
        },
        {
          "output_type": "display_data",
          "data": {
            "image/png": "[encoded data removed]",
            "text/plain": [
              "<Figure size 334.45x288 with 1 Axes>"
            ]
          },
          "metadata": {
            "tags": []
          }
        }
      ]
    },
    {
      "cell_type": "code",
      "metadata": {
        "id": "SaVpnFPrT73d",
        "colab_type": "code",
        "outputId": "a9e80f38-541c-4d85-92b3-fa54f87ed8ec",
        "colab": {
          "base_uri": "https://localhost:8080/",
          "height": 382
        }
      },
      "source": [
        "plt.figure(figsize=(16, 16))\n",
        "sns.set(style=\"whitegrid\")\n",
        "g = sns.catplot(x=dependent_var, y=\"JOB_TITLE_SUBGROUP\",\n",
        "                hue=\"VISA_CLASS\",\n",
        "                data=data, kind=\"bar\")\n",
        "                "
      ],
      "execution_count": 0,
      "outputs": [
        {
          "output_type": "display_data",
          "data": {
            "text/plain": [
              "<Figure size 1152x1152 with 0 Axes>"
            ]
          },
          "metadata": {
            "tags": []
          }
        },
        {
          "output_type": "display_data",
          "data": {
            "image/png": "[encoded data removed]",
            "text/plain": [
              "<Figure size 492.85x360 with 1 Axes>"
            ]
          },
          "metadata": {
            "tags": []
          }
        }
      ]
    },
    {
      "cell_type": "code",
      "metadata": {
        "id": "LBVNNaJMeLaZ",
        "colab_type": "code",
        "colab": {}
      },
      "source": [
        ""
      ],
      "execution_count": 0,
      "outputs": []
    }
  ]
}